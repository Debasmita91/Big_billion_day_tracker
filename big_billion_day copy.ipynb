{
  "cells": [
    {
      "cell_type": "code",
      "execution_count": 2,
      "metadata": {
        "colab": {
          "base_uri": "https://localhost:8080/"
        },
        "id": "en9yoxFS0wSk",
        "outputId": "cc820265-432c-4342-8b84-658dae501759"
      },
      "outputs": [
        {
          "name": "stdout",
          "output_type": "stream",
          "text": [
            "Requirement already satisfied: autoscraper in /Library/Frameworks/Python.framework/Versions/3.11/lib/python3.11/site-packages (1.1.14)\n",
            "Requirement already satisfied: requests in /Library/Frameworks/Python.framework/Versions/3.11/lib/python3.11/site-packages (from autoscraper) (2.31.0)\n",
            "Requirement already satisfied: bs4 in /Library/Frameworks/Python.framework/Versions/3.11/lib/python3.11/site-packages (from autoscraper) (0.0.1)\n",
            "Requirement already satisfied: lxml in /Library/Frameworks/Python.framework/Versions/3.11/lib/python3.11/site-packages (from autoscraper) (4.9.3)\n",
            "Requirement already satisfied: beautifulsoup4 in /Library/Frameworks/Python.framework/Versions/3.11/lib/python3.11/site-packages (from bs4->autoscraper) (4.12.2)\n",
            "Requirement already satisfied: charset-normalizer<4,>=2 in /Library/Frameworks/Python.framework/Versions/3.11/lib/python3.11/site-packages (from requests->autoscraper) (3.2.0)\n",
            "Requirement already satisfied: idna<4,>=2.5 in /Library/Frameworks/Python.framework/Versions/3.11/lib/python3.11/site-packages (from requests->autoscraper) (3.4)\n",
            "Requirement already satisfied: urllib3<3,>=1.21.1 in /Library/Frameworks/Python.framework/Versions/3.11/lib/python3.11/site-packages (from requests->autoscraper) (2.0.5)\n",
            "Requirement already satisfied: certifi>=2017.4.17 in /Library/Frameworks/Python.framework/Versions/3.11/lib/python3.11/site-packages (from requests->autoscraper) (2023.7.22)\n",
            "Requirement already satisfied: soupsieve>1.2 in /Library/Frameworks/Python.framework/Versions/3.11/lib/python3.11/site-packages (from beautifulsoup4->bs4->autoscraper) (2.5)\n",
            "\n",
            "\u001b[1m[\u001b[0m\u001b[34;49mnotice\u001b[0m\u001b[1;39;49m]\u001b[0m\u001b[39;49m A new release of pip is available: \u001b[0m\u001b[31;49m23.1.2\u001b[0m\u001b[39;49m -> \u001b[0m\u001b[32;49m23.2.1\u001b[0m\n",
            "\u001b[1m[\u001b[0m\u001b[34;49mnotice\u001b[0m\u001b[1;39;49m]\u001b[0m\u001b[39;49m To update, run: \u001b[0m\u001b[32;49mpip3 install --upgrade pip\u001b[0m\n",
            "Note: you may need to restart the kernel to use updated packages.\n"
          ]
        }
      ],
      "source": [
        "pip install autoscraper\n"
      ]
    },
    {
      "cell_type": "code",
      "execution_count": 3,
      "metadata": {},
      "outputs": [
        {
          "name": "stdout",
          "output_type": "stream",
          "text": [
            "Requirement already satisfied: pandas in /Library/Frameworks/Python.framework/Versions/3.11/lib/python3.11/site-packages (2.1.0)\n",
            "Requirement already satisfied: numpy>=1.23.2 in /Library/Frameworks/Python.framework/Versions/3.11/lib/python3.11/site-packages (from pandas) (1.26.0)\n",
            "Requirement already satisfied: python-dateutil>=2.8.2 in /Users/debasmitasen/Library/Python/3.11/lib/python/site-packages (from pandas) (2.8.2)\n",
            "Requirement already satisfied: pytz>=2020.1 in /Library/Frameworks/Python.framework/Versions/3.11/lib/python3.11/site-packages (from pandas) (2023.3.post1)\n",
            "Requirement already satisfied: tzdata>=2022.1 in /Library/Frameworks/Python.framework/Versions/3.11/lib/python3.11/site-packages (from pandas) (2023.3)\n",
            "Requirement already satisfied: six>=1.5 in /Users/debasmitasen/Library/Python/3.11/lib/python/site-packages (from python-dateutil>=2.8.2->pandas) (1.16.0)\n",
            "\n",
            "\u001b[1m[\u001b[0m\u001b[34;49mnotice\u001b[0m\u001b[1;39;49m]\u001b[0m\u001b[39;49m A new release of pip is available: \u001b[0m\u001b[31;49m23.1.2\u001b[0m\u001b[39;49m -> \u001b[0m\u001b[32;49m23.2.1\u001b[0m\n",
            "\u001b[1m[\u001b[0m\u001b[34;49mnotice\u001b[0m\u001b[1;39;49m]\u001b[0m\u001b[39;49m To update, run: \u001b[0m\u001b[32;49mpip3 install --upgrade pip\u001b[0m\n",
            "Note: you may need to restart the kernel to use updated packages.\n"
          ]
        }
      ],
      "source": [
        "\n",
        "pip install pandas"
      ]
    },
    {
      "cell_type": "code",
      "execution_count": 4,
      "metadata": {
        "colab": {
          "base_uri": "https://localhost:8080/"
        },
        "id": "2zXev5zI07k9",
        "outputId": "c69f2b00-8726-4d8b-a067-268d03a04d3e"
      },
      "outputs": [
        {
          "name": "stdout",
          "output_type": "stream",
          "text": [
            "{'rule_ze5u': ['₹1,99,900', '₹1,99,900', '₹1,84,900', '₹1,84,900', '₹1,84,900', '₹1,84,900', '₹1,79,900', '₹1,79,900', '₹1,79,900', '₹1,79,900', '₹1,77,999', '₹1,77,999', '₹1,77,999', '₹1,77,999', '₹1,69,900', '₹1,69,900', '₹1,69,900', '₹1,69,900', '₹1,64,900', '₹1,64,900', '₹1,64,900', '₹1,64,900', '₹1,59,900', '₹1,59,900'], 'rule_0vjk': ['₹1,99,900', '₹1,99,900', '₹1,84,900', '₹1,84,900', '₹1,84,900', '₹1,84,900', '₹1,79,900', '₹1,79,900', '₹1,79,900', '₹1,79,900', '₹1,77,999', '₹1,77,999', '₹1,77,999', '₹1,77,999', '₹1,69,900', '₹1,69,900', '₹1,69,900', '₹1,69,900', '₹1,64,900', '₹1,64,900', '₹1,64,900', '₹1,64,900', '₹1,59,900', '₹1,59,900'], 'rule_xir9': ['₹1,99,900', '₹1,99,900', '₹1,84,900', '₹1,84,900', '₹1,84,900', '₹1,84,900', '₹1,79,900', '₹1,79,900', '₹1,79,900', '₹1,79,900', '₹1,77,999', '₹1,77,999', '₹1,77,999', '₹1,77,999', '₹1,69,900', '₹1,69,900', '₹1,69,900', '₹1,69,900', '₹1,64,900', '₹1,64,900', '₹1,64,900', '₹1,64,900', '₹1,59,900', '₹1,59,900']}\n",
            "['rule_ze5u', 'rule_0vjk', 'rule_xir9']\n"
          ]
        }
      ],
      "source": [
        "from IPython.core.alias import AliasManager\n",
        "import pandas as pd\n",
        "from autoscraper import AutoScraper\n",
        "\n",
        "amazon_url=\"https://www.flipkart.com/search?q=iphone&otracker=search&otracker1=search&marketplace=FLIPKART&as-show=on&as=off&sort=price_desc\"\n",
        "#print(amazon_url)\n",
        "wanted_list=[\"₹1,77,999\",\"APPLE iPhone 14 Pro Max (Silver, 1 TB)\"]\n",
        "scraper=AutoScraper()\n",
        "result=scraper.build(amazon_url,wanted_list)\n",
        "\n",
        "\n",
        "data=scraper.get_result_similar(amazon_url,grouped=True)\n",
        "print(data)\n",
        "keys=list(data.keys())\n",
        "print (keys)"
      ]
    },
    {
      "cell_type": "code",
      "execution_count": 5,
      "metadata": {},
      "outputs": [
        {
          "name": "stdout",
          "output_type": "stream",
          "text": [
            "Requirement already satisfied: pywhatkit in /Library/Frameworks/Python.framework/Versions/3.11/lib/python3.11/site-packages (5.4)\n",
            "Requirement already satisfied: Pillow in /Library/Frameworks/Python.framework/Versions/3.11/lib/python3.11/site-packages (from pywhatkit) (10.0.1)\n",
            "Requirement already satisfied: pyautogui in /Library/Frameworks/Python.framework/Versions/3.11/lib/python3.11/site-packages (from pywhatkit) (0.9.54)\n",
            "Requirement already satisfied: requests in /Library/Frameworks/Python.framework/Versions/3.11/lib/python3.11/site-packages (from pywhatkit) (2.31.0)\n",
            "Requirement already satisfied: wikipedia in /Library/Frameworks/Python.framework/Versions/3.11/lib/python3.11/site-packages (from pywhatkit) (1.4.0)\n",
            "Requirement already satisfied: Flask in /Library/Frameworks/Python.framework/Versions/3.11/lib/python3.11/site-packages (from pywhatkit) (2.3.3)\n",
            "Requirement already satisfied: Werkzeug>=2.3.7 in /Library/Frameworks/Python.framework/Versions/3.11/lib/python3.11/site-packages (from Flask->pywhatkit) (2.3.7)\n",
            "Requirement already satisfied: Jinja2>=3.1.2 in /Library/Frameworks/Python.framework/Versions/3.11/lib/python3.11/site-packages (from Flask->pywhatkit) (3.1.2)\n",
            "Requirement already satisfied: itsdangerous>=2.1.2 in /Library/Frameworks/Python.framework/Versions/3.11/lib/python3.11/site-packages (from Flask->pywhatkit) (2.1.2)\n",
            "Requirement already satisfied: click>=8.1.3 in /Library/Frameworks/Python.framework/Versions/3.11/lib/python3.11/site-packages (from Flask->pywhatkit) (8.1.7)\n",
            "Requirement already satisfied: blinker>=1.6.2 in /Library/Frameworks/Python.framework/Versions/3.11/lib/python3.11/site-packages (from Flask->pywhatkit) (1.6.2)\n",
            "Requirement already satisfied: pymsgbox in /Library/Frameworks/Python.framework/Versions/3.11/lib/python3.11/site-packages (from pyautogui->pywhatkit) (1.0.9)\n",
            "Requirement already satisfied: pytweening>=1.0.4 in /Library/Frameworks/Python.framework/Versions/3.11/lib/python3.11/site-packages (from pyautogui->pywhatkit) (1.0.7)\n",
            "Requirement already satisfied: pyscreeze>=0.1.21 in /Library/Frameworks/Python.framework/Versions/3.11/lib/python3.11/site-packages (from pyautogui->pywhatkit) (0.1.29)\n",
            "Requirement already satisfied: pygetwindow>=0.0.5 in /Library/Frameworks/Python.framework/Versions/3.11/lib/python3.11/site-packages (from pyautogui->pywhatkit) (0.0.9)\n",
            "Requirement already satisfied: mouseinfo in /Library/Frameworks/Python.framework/Versions/3.11/lib/python3.11/site-packages (from pyautogui->pywhatkit) (0.1.3)\n",
            "Requirement already satisfied: pyobjc-core in /Library/Frameworks/Python.framework/Versions/3.11/lib/python3.11/site-packages (from pyautogui->pywhatkit) (9.2)\n",
            "Requirement already satisfied: pyobjc-framework-quartz in /Library/Frameworks/Python.framework/Versions/3.11/lib/python3.11/site-packages (from pyautogui->pywhatkit) (9.2)\n",
            "Requirement already satisfied: charset-normalizer<4,>=2 in /Library/Frameworks/Python.framework/Versions/3.11/lib/python3.11/site-packages (from requests->pywhatkit) (3.2.0)\n",
            "Requirement already satisfied: idna<4,>=2.5 in /Library/Frameworks/Python.framework/Versions/3.11/lib/python3.11/site-packages (from requests->pywhatkit) (3.4)\n",
            "Requirement already satisfied: urllib3<3,>=1.21.1 in /Library/Frameworks/Python.framework/Versions/3.11/lib/python3.11/site-packages (from requests->pywhatkit) (2.0.5)\n",
            "Requirement already satisfied: certifi>=2017.4.17 in /Library/Frameworks/Python.framework/Versions/3.11/lib/python3.11/site-packages (from requests->pywhatkit) (2023.7.22)\n",
            "Requirement already satisfied: beautifulsoup4 in /Library/Frameworks/Python.framework/Versions/3.11/lib/python3.11/site-packages (from wikipedia->pywhatkit) (4.12.2)\n",
            "Requirement already satisfied: MarkupSafe>=2.0 in /Library/Frameworks/Python.framework/Versions/3.11/lib/python3.11/site-packages (from Jinja2>=3.1.2->Flask->pywhatkit) (2.1.3)\n",
            "Requirement already satisfied: pyrect in /Library/Frameworks/Python.framework/Versions/3.11/lib/python3.11/site-packages (from pygetwindow>=0.0.5->pyautogui->pywhatkit) (0.2.0)\n",
            "Requirement already satisfied: pyscreenshot in /Library/Frameworks/Python.framework/Versions/3.11/lib/python3.11/site-packages (from pyscreeze>=0.1.21->pyautogui->pywhatkit) (3.1)\n",
            "Requirement already satisfied: soupsieve>1.2 in /Library/Frameworks/Python.framework/Versions/3.11/lib/python3.11/site-packages (from beautifulsoup4->wikipedia->pywhatkit) (2.5)\n",
            "Requirement already satisfied: pyperclip in /Library/Frameworks/Python.framework/Versions/3.11/lib/python3.11/site-packages (from mouseinfo->pyautogui->pywhatkit) (1.8.2)\n",
            "Requirement already satisfied: rubicon-objc in /Library/Frameworks/Python.framework/Versions/3.11/lib/python3.11/site-packages (from mouseinfo->pyautogui->pywhatkit) (0.4.6)\n",
            "Requirement already satisfied: pyobjc-framework-Cocoa>=9.2 in /Library/Frameworks/Python.framework/Versions/3.11/lib/python3.11/site-packages (from pyobjc-framework-quartz->pyautogui->pywhatkit) (9.2)\n",
            "Requirement already satisfied: EasyProcess in /Library/Frameworks/Python.framework/Versions/3.11/lib/python3.11/site-packages (from pyscreenshot->pyscreeze>=0.1.21->pyautogui->pywhatkit) (1.1)\n",
            "Requirement already satisfied: entrypoint2 in /Library/Frameworks/Python.framework/Versions/3.11/lib/python3.11/site-packages (from pyscreenshot->pyscreeze>=0.1.21->pyautogui->pywhatkit) (1.1)\n",
            "Requirement already satisfied: mss in /Library/Frameworks/Python.framework/Versions/3.11/lib/python3.11/site-packages (from pyscreenshot->pyscreeze>=0.1.21->pyautogui->pywhatkit) (9.0.1)\n",
            "\n",
            "\u001b[1m[\u001b[0m\u001b[34;49mnotice\u001b[0m\u001b[1;39;49m]\u001b[0m\u001b[39;49m A new release of pip is available: \u001b[0m\u001b[31;49m23.1.2\u001b[0m\u001b[39;49m -> \u001b[0m\u001b[32;49m23.2.1\u001b[0m\n",
            "\u001b[1m[\u001b[0m\u001b[34;49mnotice\u001b[0m\u001b[1;39;49m]\u001b[0m\u001b[39;49m To update, run: \u001b[0m\u001b[32;49mpip3 install --upgrade pip\u001b[0m\n",
            "Note: you may need to restart the kernel to use updated packages.\n"
          ]
        }
      ],
      "source": [
        "pip install pywhatkit"
      ]
    },
    {
      "cell_type": "code",
      "execution_count": null,
      "metadata": {
        "colab": {
          "base_uri": "https://localhost:8080/",
          "height": 955
        },
        "id": "_-ljNYX79gCO",
        "outputId": "ace3830b-dd4c-48ea-ae0d-f316ef0590d1"
      },
      "outputs": [],
      "source": [
        "\n",
        "import time\n",
        "\n",
        "while True:\n",
        "        import pywhatkit\n",
        "        scraper.set_rule_aliases({str(keys[-2]):'Title',str(keys[0]):'Price'})\n",
        "        scraper.keep_rules([str(keys[-2]),str(keys[0])])\n",
        "\n",
        "        product=\"iphone 14\"    #enter the product you want to search for\n",
        "        cutoff =120000  #enter your cut off price\n",
        "        product= product.replace(' ','+')\n",
        "        similar_url=amazon_url=\"https://www.flipkart.com/search?q={}&otracker=search&otracker1=search&marketplace=FLIPKART&as-show=on&as=off&sort=price_desc\".format(product)\n",
        "\n",
        "        print(similar_url)\n",
        "        data=scraper.get_result_similar(similar_url,group_by_alias=True)\n",
        "        scraper.save('amazon-search.json')\n",
        "        search_data = tuple(zip(data['Title'],data['Price']))\n",
        "        #print(search_data)\n",
        "        df = pd.DataFrame(columns=['Title','Price'])\n",
        "        msg=[]\n",
        "        for i in range(len(search_data)):\n",
        "            df.loc[len(df)] = [search_data[i][0],search_data[i][1]]\n",
        "            pricesearch= search_data[i][1].replace('₹','')\n",
        "            pricesearch2= pricesearch.replace(',','')\n",
        "            pricesearch2=int(pricesearch2)\n",
        "            if(pricesearch2<cutoff):\n",
        "                msg.append(search_data[i][0]+\" is now\"+ search_data[i][1])\n",
        "        msgfinal= \"\"\n",
        "        msgfinal= msgfinal.join(msg)\n",
        "        pywhatkit.sendwhatmsg_instantly(\"+917*********\",msgfinal)  #add ur WA number\n",
        "        #print(msgfinal)  \n",
        "        print(df.shape) #displays list of all items in search result in table format\n",
        "        df\n",
        "        time.sleep(1800)"
      ]
    }
  ],
  "metadata": {
    "colab": {
      "provenance": []
    },
    "kernelspec": {
      "display_name": "Python 3",
      "name": "python3"
    },
    "language_info": {
      "codemirror_mode": {
        "name": "ipython",
        "version": 3
      },
      "file_extension": ".py",
      "mimetype": "text/x-python",
      "name": "python",
      "nbconvert_exporter": "python",
      "pygments_lexer": "ipython3",
      "version": "3.11.4"
    }
  },
  "nbformat": 4,
  "nbformat_minor": 0
}
